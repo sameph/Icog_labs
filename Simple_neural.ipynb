{
  "nbformat": 4,
  "nbformat_minor": 0,
  "metadata": {
    "colab": {
      "provenance": [],
      "authorship_tag": "ABX9TyMDgscKjxylYRzuujjAKkrw",
      "include_colab_link": true
    },
    "kernelspec": {
      "name": "python3",
      "display_name": "Python 3"
    },
    "language_info": {
      "name": "python"
    }
  },
  "cells": [
    {
      "cell_type": "markdown",
      "metadata": {
        "id": "view-in-github",
        "colab_type": "text"
      },
      "source": [
        "<a href=\"https://colab.research.google.com/github/sameph/Icog_labs/blob/main/Simple_neural.ipynb\" target=\"_parent\"><img src=\"https://colab.research.google.com/assets/colab-badge.svg\" alt=\"Open In Colab\"/></a>"
      ]
    },
    {
      "cell_type": "code",
      "execution_count": 7,
      "metadata": {
        "id": "ZpjTUC-Nw7m6"
      },
      "outputs": [],
      "source": [
        "import numpy as np\n",
        "\n",
        "# Define a simple neural network class\n",
        "class SimpleNN:\n",
        "    def __init__(self, input_size, hidden_size, output_size):\n",
        "        # Initialize weights and biases for 3 layers (input -> hidden -> output)\n",
        "        self.weights1 = np.random.randn(input_size, hidden_size)\n",
        "        self.bias1 = np.zeros((1, hidden_size))\n",
        "        self.weights2 = np.random.randn(hidden_size, output_size)\n",
        "        self.bias2 = np.zeros((1, output_size))\n",
        "\n",
        "    def relu(self, x):\n",
        "        return np.maximum(0, x)  # ReLU activation function\n",
        "\n",
        "    def softmax(self, x):\n",
        "        exp_x = np.exp(x - np.max(x))  # Numerical stability\n",
        "        return exp_x / exp_x.sum(axis=1, keepdims=True)  # Softmax for probability distribution\n",
        "\n",
        "    def forward(self, X):\n",
        "        # Forward pass through the network\n",
        "        self.z1 = np.dot(X, self.weights1) + self.bias1\n",
        "        self.a1 = self.relu(self.z1)\n",
        "        self.z2 = np.dot(self.a1, self.weights2) + self.bias2\n",
        "        self.a2 = self.softmax(self.z2)\n",
        "        return self.a2\n",
        "    def compute_loss(self, y_true, y_pred):\n",
        "        # Cross-entropy loss function\n",
        "        m = y_true.shape[0]  # Number of examples\n",
        "        log_likelihood = -np.log(y_pred[range(m), y_true.argmax(axis=1)])\n",
        "        loss = np.sum(log_likelihood) / m\n",
        "        return loss\n",
        "    def backward(self, X, y_true, learning_rate):\n",
        "      m = X.shape[0]  # Number of examples\n",
        "\n",
        "      # Calculate gradients for the output layer (using softmax and cross-entropy derivative)\n",
        "      dZ2 = self.a2 - y_true  # Softmax cross-entropy derivative\n",
        "      dW2 = np.dot(self.a1.T, dZ2) / m\n",
        "      db2 = np.sum(dZ2, axis=0, keepdims=True) / m\n",
        "\n",
        "      # Calculate gradients for the hidden layer\n",
        "      dA1 = np.dot(dZ2, self.weights2.T)\n",
        "      dZ1 = dA1 * (self.z1 > 0)  # ReLU derivative\n",
        "      dW1 = np.dot(X.T, dZ1) / m\n",
        "      db1 = np.sum(dZ1, axis=0, keepdims=True) / m\n",
        "\n",
        "      # Update weights and biases using gradient descent\n",
        "      self.weights1 -= learning_rate * dW1\n",
        "      self.bias1 -= learning_rate * db1\n",
        "      self.weights2 -= learning_rate * dW2\n",
        "      self.bias2 -= learning_rate * db2\n",
        "    def train(self, X, y, epochs=1000, batch_size=32, learning_rate=0.01):\n",
        "      num_samples = X.shape[0]\n",
        "      for epoch in range(epochs):\n",
        "          # Shuffle the data to ensure batches are varied\n",
        "          indices = np.random.permutation(num_samples)\n",
        "          X_shuffled = X[indices]\n",
        "          y_shuffled = y[indices]\n",
        "\n",
        "          for i in range(0, num_samples, batch_size):\n",
        "              # Create batches\n",
        "              X_batch = X_shuffled[i:i+batch_size]\n",
        "              y_batch = y_shuffled[i:i+batch_size]\n",
        "\n",
        "              # Forward pass\n",
        "              y_pred = self.forward(X_batch)\n",
        "\n",
        "              # Compute loss\n",
        "              loss = self.compute_loss(y_batch, y_pred)\n",
        "\n",
        "              # Backward pass\n",
        "              self.backward(X_batch, y_batch, learning_rate)\n",
        "\n",
        "          if epoch % 100 == 0:  # Print loss every 100 epochs\n",
        "              print(f'Epoch {epoch}, Loss: {loss}')\n",
        "    def predict(self, X):\n",
        "      # Make predictions (output class probabilities)\n",
        "      y_pred = self.forward(X)\n",
        "      return np.argmax(y_pred, axis=1)  # Return the class with the highest probability\n",
        "\n",
        "\n",
        "\n"
      ]
    },
    {
      "cell_type": "code",
      "source": [],
      "metadata": {
        "id": "2dDQKFH6x4uQ"
      },
      "execution_count": 7,
      "outputs": []
    },
    {
      "cell_type": "code",
      "source": [],
      "metadata": {
        "id": "r67Lgmrdx7tb"
      },
      "execution_count": 7,
      "outputs": []
    },
    {
      "cell_type": "code",
      "source": [],
      "metadata": {
        "id": "8ZMijLxSx-Wq"
      },
      "execution_count": 7,
      "outputs": []
    },
    {
      "cell_type": "code",
      "source": [
        "# Example Data (Random for demonstration)\n",
        "X_train = np.random.randn(1000, 3)  # 1000 samples, 3 features\n",
        "y_train = np.zeros((1000, 3))  # One-hot encoded labels for 3 classes\n",
        "\n",
        "# Randomly assign class labels\n",
        "for i in range(1000):\n",
        "    y_train[i, np.random.randint(0, 3)] = 1  # Randomly assign one of the 3 classes\n",
        "\n",
        "# Initialize the neural network (input_size=3, hidden_size=5, output_size=3)\n",
        "nn = SimpleNN(input_size=3, hidden_size=5, output_size=3)\n",
        "\n",
        "# Train the network\n",
        "nn.train(X_train, y_train, epochs=1000, batch_size=32, learning_rate=0.01)\n"
      ],
      "metadata": {
        "colab": {
          "base_uri": "https://localhost:8080/"
        },
        "id": "_G088IAdyAtf",
        "outputId": "d305345e-fe54-4347-dc7a-7d261843d714"
      },
      "execution_count": 8,
      "outputs": [
        {
          "output_type": "stream",
          "name": "stdout",
          "text": [
            "Epoch 0, Loss: 4.0170133016468\n",
            "Epoch 100, Loss: 1.0472783803915375\n",
            "Epoch 200, Loss: 1.0213817327699204\n",
            "Epoch 300, Loss: 1.0387263533740336\n",
            "Epoch 400, Loss: 1.0840074112050229\n",
            "Epoch 500, Loss: 0.9922504448066435\n",
            "Epoch 600, Loss: 1.0593421971198942\n",
            "Epoch 700, Loss: 1.0995145147994514\n",
            "Epoch 800, Loss: 1.066287257846036\n",
            "Epoch 900, Loss: 1.0749272411889845\n"
          ]
        }
      ]
    },
    {
      "cell_type": "code",
      "source": [],
      "metadata": {
        "id": "esKunSVuyH5k"
      },
      "execution_count": null,
      "outputs": []
    }
  ]
}